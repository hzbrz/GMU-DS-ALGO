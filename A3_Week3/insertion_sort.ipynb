{
 "cells": [
  {
   "cell_type": "markdown",
   "metadata": {},
   "source": [
    "## IT-309 Insertion Sort"
   ]
  },
  {
   "cell_type": "code",
   "execution_count": 6,
   "metadata": {},
   "outputs": [
    {
     "name": "stdout",
     "output_type": "stream",
     "text": [
      "unsorted list:\n",
      "[5, 3, 4, 1, 2]\n",
      "Outer: Comparing  3  and  5  List =  [5, 3, 4, 1, 2]\n",
      "\t\t\t\t\tInner: Swapped  3  and  5\n",
      "\t\t\t\t\tInner: Comparing  3  and  2\n",
      "Outer: Comparing  4  and  5  List =  [3, 5, 4, 1, 2]\n",
      "\t\t\t\t\tInner: Swapped  4  and  5\n",
      "\t\t\t\t\tInner: Comparing  4  and  3\n",
      "Outer: Comparing  1  and  5  List =  [3, 4, 5, 1, 2]\n",
      "\t\t\t\t\tInner: Swapped  1  and  5\n",
      "\t\t\t\t\tInner: Comparing  1  and  4\n",
      "\t\t\t\t\tInner: Swapped  1  and  4\n",
      "\t\t\t\t\tInner: Comparing  1  and  3\n",
      "\t\t\t\t\tInner: Swapped  1  and  3\n",
      "\t\t\t\t\tInner: Comparing  1  and  2\n",
      "Outer: Comparing  2  and  5  List =  [1, 3, 4, 5, 2]\n",
      "\t\t\t\t\tInner: Swapped  2  and  5\n",
      "\t\t\t\t\tInner: Comparing  2  and  4\n",
      "\t\t\t\t\tInner: Swapped  2  and  4\n",
      "\t\t\t\t\tInner: Comparing  2  and  3\n",
      "\t\t\t\t\tInner: Swapped  2  and  3\n",
      "\t\t\t\t\tInner: Comparing  2  and  1\n",
      "sorted list: \n",
      "[1, 2, 3, 4, 5]   #swaps:  8\n"
     ]
    }
   ],
   "source": [
    "def func_insertion_sort(A):\n",
    "    swaps = 0\n",
    "    k=1\n",
    "    while k < len(A):\n",
    "        j = k \n",
    "        print ('Outer: Comparing ', A[j], ' and ', A[j - 1],' List = ', A)  # uncomment for outer loop trace\n",
    "        while j>0 and A[j] < A[j-1]:\n",
    "            print ('\\t\\t\\t\\t\\tInner: Swapped ', A[j], ' and ', A[j - 1])  # uncomment for swap details\n",
    "            A[j],A[j-1] = A[j-1],A[j]\n",
    "            swaps += 1\n",
    "            j-=1\n",
    "            print ('\\t\\t\\t\\t\\tInner: Comparing ', A[j], ' and ', A[j - 1])  # uncomment for swap details\n",
    "        k+=1\n",
    "    return A, swaps\n",
    "\n",
    "A = [5,3,4,1,2]\n",
    "print(\"unsorted list:\") \n",
    "print(A)\n",
    "sort, s = func_insertion_sort(A)\n",
    "print(\"sorted list: \") \n",
    "print(sort, '  #swaps: ', s)"
   ]
  },
  {
   "cell_type": "code",
   "execution_count": 23,
   "metadata": {},
   "outputs": [
    {
     "name": "stdout",
     "output_type": "stream",
     "text": [
      "Outer: Comparing  3  and  1  List =  [1, 3, 5, 7, 9, 13, 11, 15, 17, 19]\n",
      "Outer: Comparing  5  and  3  List =  [1, 3, 5, 7, 9, 13, 11, 15, 17, 19]\n",
      "Outer: Comparing  7  and  5  List =  [1, 3, 5, 7, 9, 13, 11, 15, 17, 19]\n",
      "Outer: Comparing  9  and  7  List =  [1, 3, 5, 7, 9, 13, 11, 15, 17, 19]\n",
      "Outer: Comparing  13  and  9  List =  [1, 3, 5, 7, 9, 13, 11, 15, 17, 19]\n",
      "Outer: Comparing  11  and  13  List =  [1, 3, 5, 7, 9, 13, 11, 15, 17, 19]\n",
      "\t\t\t\t\tInner: Swapped  11  and  13\n",
      "\t\t\t\t\tInner: Comparing  11  and  9\n",
      "Outer: Comparing  15  and  13  List =  [1, 3, 5, 7, 9, 11, 13, 15, 17, 19]\n",
      "Outer: Comparing  17  and  15  List =  [1, 3, 5, 7, 9, 11, 13, 15, 17, 19]\n",
      "Outer: Comparing  19  and  17  List =  [1, 3, 5, 7, 9, 11, 13, 15, 17, 19]\n",
      "sorted list: \n",
      "[1, 3, 5, 7, 9, 11, 13, 15, 17, 19]   #swaps:  1\n"
     ]
    }
   ],
   "source": [
    "B = [1, 3, 5, 7, 9, 13, 11, 15, 17, 19]\n",
    "sort, s = func_insertion_sort(B)\n",
    "print(\"sorted list: \") \n",
    "print(sort, '  #swaps: ', s)"
   ]
  },
  {
   "cell_type": "code",
   "execution_count": null,
   "metadata": {},
   "outputs": [],
   "source": []
  }
 ],
 "metadata": {
  "kernelspec": {
   "display_name": "Python 3 (ipykernel)",
   "language": "python",
   "name": "python3"
  },
  "language_info": {
   "codemirror_mode": {
    "name": "ipython",
    "version": 3
   },
   "file_extension": ".py",
   "mimetype": "text/x-python",
   "name": "python",
   "nbconvert_exporter": "python",
   "pygments_lexer": "ipython3",
   "version": "3.8.2"
  }
 },
 "nbformat": 4,
 "nbformat_minor": 2
}
