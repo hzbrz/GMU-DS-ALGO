{
 "cells": [
  {
   "cell_type": "markdown",
   "metadata": {},
   "source": [
    "## IT-309 - Selection Sort"
   ]
  },
  {
   "cell_type": "code",
   "execution_count": 1,
   "metadata": {},
   "outputs": [
    {
     "name": "stdout",
     "output_type": "stream",
     "text": [
      "\n",
      "Outer loop iteration#  0   A=  [8, 1, 3, 80, -1, 4, 7]\n",
      "      Inner loop iteration#  2\n",
      "      Inner loop iteration#  3\n",
      "      Inner loop iteration#  4\n",
      "      Inner loop iteration#  5\n",
      "      Inner loop iteration#  6\n",
      "    Swapped  -1  and  8\n",
      "\n",
      "Outer loop iteration#  1   A=  [-1, 1, 3, 80, 8, 4, 7]\n",
      "      Inner loop iteration#  3\n",
      "      Inner loop iteration#  4\n",
      "      Inner loop iteration#  5\n",
      "      Inner loop iteration#  6\n",
      "\n",
      "Outer loop iteration#  2   A=  [-1, 1, 3, 80, 8, 4, 7]\n",
      "      Inner loop iteration#  4\n",
      "      Inner loop iteration#  5\n",
      "      Inner loop iteration#  6\n",
      "\n",
      "Outer loop iteration#  3   A=  [-1, 1, 3, 80, 8, 4, 7]\n",
      "      Inner loop iteration#  5\n",
      "      Inner loop iteration#  6\n",
      "    Swapped  4  and  80\n",
      "\n",
      "Outer loop iteration#  4   A=  [-1, 1, 3, 4, 8, 80, 7]\n",
      "      Inner loop iteration#  6\n",
      "    Swapped  7  and  8\n",
      "\n",
      "Outer loop iteration#  5   A=  [-1, 1, 3, 4, 7, 80, 8]\n",
      "    Swapped  8  and  80\n"
     ]
    },
    {
     "data": {
      "text/plain": [
       "[-1, 1, 3, 4, 7, 8, 80]"
      ]
     },
     "execution_count": 1,
     "metadata": {},
     "output_type": "execute_result"
    }
   ],
   "source": [
    "def func_selection_sort(A):\n",
    "    #this is an in-place sorting algorithm \n",
    "    #this algorithm replaces the current element i.e., A[i] with the minimum element in A[i+1:]\n",
    "    i = 0\n",
    "    while i < len(A)-1:\n",
    "        print('\\nOuter loop iteration# ', i, '  A= ', A)\n",
    "        j = i+1\n",
    "        minvar = A[j]\n",
    "        mix = j\n",
    "        j+=1\n",
    "        while j < len(A):\n",
    "            print('      Inner loop iteration# ', j)\n",
    "            if minvar > A[j]:\n",
    "                minvar= A[j]\n",
    "                mix= j \n",
    "            j+=1\n",
    "    \n",
    "        \n",
    "        if A[i] > A[mix]:\n",
    "            A[i],A[mix] = A[mix],A[i]\n",
    "            print('    Swapped ', A[i], ' and ', A[mix])\n",
    "        \n",
    "        i+=1\n",
    "    return A\n",
    "\n",
    "\n",
    "#testing the algorithm\n",
    "A = [8,1,3,80,-1,4,7]\n",
    "out = func_selection_sort(A)\n",
    "out"
   ]
  },
  {
   "cell_type": "code",
   "execution_count": null,
   "metadata": {},
   "outputs": [],
   "source": []
  }
 ],
 "metadata": {
  "kernelspec": {
   "display_name": "Python 3 (ipykernel)",
   "language": "python",
   "name": "python3"
  },
  "language_info": {
   "codemirror_mode": {
    "name": "ipython",
    "version": 3
   },
   "file_extension": ".py",
   "mimetype": "text/x-python",
   "name": "python",
   "nbconvert_exporter": "python",
   "pygments_lexer": "ipython3",
   "version": "3.8.2"
  }
 },
 "nbformat": 4,
 "nbformat_minor": 2
}
