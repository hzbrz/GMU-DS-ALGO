{
 "cells": [
  {
   "cell_type": "markdown",
   "metadata": {},
   "source": [
    "## IT-309 - Module 4 - StackArray\n",
    ">>- First example is the Array Stack example from the book\n",
    ">>- showStack method added to display stack contents without popping the elements"
   ]
  },
  {
   "cell_type": "code",
   "execution_count": 1,
   "metadata": {},
   "outputs": [],
   "source": [
    "class ArrayStack:\n",
    "  \"\"\"LIFO Stack implementation using a Python list as underlying storage.\"\"\"\n",
    "\n",
    "  def __init__(self):\n",
    "    \"\"\"Create an empty stack.\"\"\"\n",
    "    self._data = []                       # nonpublic list instance\n",
    "\n",
    "  def __len__(self):\n",
    "    \"\"\"Return the number of elements in the stack.\"\"\"\n",
    "    return len(self._data)\n",
    "\n",
    "  def is_empty(self):\n",
    "    \"\"\"Return True if the stack is empty.\"\"\"\n",
    "    return len(self._data) == 0\n",
    "\n",
    "  def push(self, e):\n",
    "    \"\"\"Add element e to the top of the stack.\"\"\"\n",
    "    self._data.append(e)                  # new item stored at end of list\n",
    "\n",
    "  def top(self):\n",
    "    \"\"\"Return (but do not remove) the element at the top of the stack.\n",
    "    Raise Empty exception if the stack is empty.\n",
    "    \"\"\"\n",
    "    if self.is_empty():\n",
    "      raise Empty('Stack is empty')\n",
    "    return self._data[-1]                 # the last item in the list\n",
    "\n",
    "  def pop(self):\n",
    "    \"\"\"Remove and return the element from the top of the stack (i.e., LIFO).\n",
    "    Raise Empty exception if the stack is empty.\n",
    "    \"\"\"\n",
    "    if self.is_empty():\n",
    "      raise Empty('Stack is empty')\n",
    "    return self._data.pop()               # remove last item from list\n",
    "\n",
    "  def showStack(self):                    # Added by GRS to display stack contents\n",
    "    \"\"\" Display the contents of the stack top to bottom, without 'pop'. \"\"\"\n",
    "    print('\\nContents of stack from top to bottom:')\n",
    "    for s in range(len(self._data) - 1, -1, -1):\n",
    "      print(self._data[s])\n",
    "    \n",
    "class Empty(Exception):\n",
    "  \"\"\"Simple 'Empty' exception - used as message pass-through. GRS \"\"\"\n",
    "  pass"
   ]
  },
  {
   "cell_type": "code",
   "execution_count": 2,
   "metadata": {},
   "outputs": [
    {
     "name": "stdout",
     "output_type": "stream",
     "text": [
      "S.push(5)\n",
      "S.push(3)\n",
      "Stack length =  2\n",
      "\n",
      "Contents of stack from top to bottom:\n",
      "3\n",
      "5\n",
      "S.pop()  3\n",
      "\n",
      "Contents of stack from top to bottom:\n",
      "5\n",
      "S.is_empty()  False\n",
      "S.pop() 5\n",
      "S.is_empty() True\n",
      "\n",
      "Contents of stack from top to bottom:\n",
      "S.push(7) None\n",
      "S.push(9) None\n",
      "S.top() 9\n",
      "S.push(4) None\n",
      "len(S) 3\n",
      "\n",
      "Contents of stack from top to bottom:\n",
      "4\n",
      "9\n",
      "7\n",
      "S.pop() 4\n",
      "S.push(6) None\n",
      "S.push(8) None\n",
      "S.pop() 8\n",
      "\n",
      "Contents of stack from top to bottom:\n",
      "6\n",
      "9\n",
      "7\n"
     ]
    }
   ],
   "source": [
    "S = ArrayStack()                        # contents: [ ]\n",
    "print ('S.push(5)')\n",
    "S.push(5)                               # contents: [5]\n",
    "print('S.push(3)')\n",
    "S.push(3)\n",
    "print('Stack length = ', len(S))        # contents: [5, 3];    outputs 2\n",
    "S.showStack()\n",
    "print('S.pop() ', S.pop())              # contents: [5];       outputs 3\n",
    "S.showStack()\n",
    "print('S.is_empty() ', S.is_empty())    # contents: [5];       outputs False\n",
    "print('S.pop()', S.pop())               # contents: [ ];       outputs 5\n",
    "print('S.is_empty()', S.is_empty())     # contents: [ ];       outputs True\n",
    "S.showStack()\n",
    "\n",
    "print('S.push(7)', S.push(7))           # contents: [7]\n",
    "print('S.push(9)', S.push(9))           # contents: [7, 9]\n",
    "print('S.top()', S.top())               # contents: [7, 9];    outputs 9\n",
    "print('S.push(4)', S.push(4))           # contents: [7, 9, 4]\n",
    "print('len(S)', len(S))                 # contents: [7, 9, 4]; outputs 3\n",
    "S.showStack()\n",
    "print('S.pop()', S.pop())               # contents: [7, 9];    outputs 4\n",
    "print('S.push(6)', S.push(6))           # contents: [7, 9, 6]\n",
    "print('S.push(8)', S.push(8))           # contents: [7, 9, 6, 8]\n",
    "print('S.pop()', S.pop())               # contents: [7, 9, 6]; outputs 8\n",
    "S.showStack()"
   ]
  },
  {
   "cell_type": "code",
   "execution_count": 3,
   "metadata": {},
   "outputs": [],
   "source": [
    "T = ArrayStack()\n",
    "T.push('Sally')\n",
    "T.push('Aunt')\n",
    "T.push('dear')\n",
    "T.push('My')\n"
   ]
  },
  {
   "cell_type": "code",
   "execution_count": 4,
   "metadata": {},
   "outputs": [
    {
     "name": "stdout",
     "output_type": "stream",
     "text": [
      "\n",
      "Contents of stack from top to bottom:\n",
      "My\n",
      "dear\n",
      "Aunt\n",
      "Sally\n"
     ]
    }
   ],
   "source": [
    "T.showStack()\n"
   ]
  },
  {
   "cell_type": "code",
   "execution_count": 5,
   "metadata": {},
   "outputs": [
    {
     "name": "stdout",
     "output_type": "stream",
     "text": [
      "My\n",
      "dear\n",
      "Aunt\n",
      "Sally\n"
     ]
    }
   ],
   "source": [
    "while not T.is_empty():\n",
    "    print(T.pop())\n"
   ]
  },
  {
   "cell_type": "code",
   "execution_count": null,
   "metadata": {},
   "outputs": [],
   "source": [
    "print(T.pop())"
   ]
  },
  {
   "cell_type": "markdown",
   "metadata": {},
   "source": [
    "### Second example is an alternate ArrayStack that extends the 'list' class\n",
    ">>- saves a few lines of code, uses inheritance\n",
    ">>- refer to internal stack/list contents using 'self' rather than self._data"
   ]
  },
  {
   "cell_type": "code",
   "execution_count": 6,
   "metadata": {},
   "outputs": [],
   "source": [
    "class ArrayStack1(list):\n",
    "  \"\"\"LIFO Stack implementation using a Python list as underlying storage.\n",
    "     Extends built-in 'list' class.  \"\"\"\n",
    "\n",
    "  def is_empty(self):\n",
    "    \"\"\"Return True if the stack is empty.\"\"\"\n",
    "    return len(self) == 0\n",
    "\n",
    "  def push(self, e):\n",
    "    \"\"\"Add element e to the top of the stack.\"\"\"\n",
    "    super().append(e)                           # new item stored at end of list\n",
    "\n",
    "  def top(self):\n",
    "    \"\"\"Return (but do not remove) the element at the top of the stack.\n",
    "    Raise Empty exception if the stack is empty.\n",
    "    \"\"\"\n",
    "    if self.is_empty():\n",
    "      raise Empty('Stack is empty')\n",
    "    return self[-1]                       # the last item in the list\n",
    "\n",
    "  def pop(self):\n",
    "    \"\"\"Remove and return the element from the top of the stack (i.e., LIFO).\n",
    "    Raise Empty exception if the stack is empty.\n",
    "    \"\"\"\n",
    "    if self.is_empty():\n",
    "      raise Empty('Stack is empty')\n",
    "    return super().pop()                   # remove last item from list\n",
    "\n",
    "  def showStack(self):                    # Added by GRS to display stack contents\n",
    "    \"\"\" Display the contents of the stack top to bottom, without 'pop'. \"\"\"\n",
    "    print('\\nContents of stack from top to bottom:')\n",
    "    for s in range(len(self) - 1, -1, -1):\n",
    "      print(self[s])\n",
    "    \n",
    " "
   ]
  },
  {
   "cell_type": "code",
   "execution_count": 7,
   "metadata": {},
   "outputs": [],
   "source": [
    "W = ArrayStack1()\n",
    "W.push('be')\n",
    "W.push('it')\n",
    "W.push('Let')\n"
   ]
  },
  {
   "cell_type": "code",
   "execution_count": 8,
   "metadata": {},
   "outputs": [
    {
     "name": "stdout",
     "output_type": "stream",
     "text": [
      "\n",
      "Contents of stack from top to bottom:\n",
      "Let\n",
      "it\n",
      "be\n"
     ]
    }
   ],
   "source": [
    "W.showStack()"
   ]
  },
  {
   "cell_type": "code",
   "execution_count": 9,
   "metadata": {},
   "outputs": [
    {
     "data": {
      "text/plain": [
       "__main__.ArrayStack1"
      ]
     },
     "execution_count": 9,
     "metadata": {},
     "output_type": "execute_result"
    }
   ],
   "source": [
    "type(W)\n"
   ]
  },
  {
   "cell_type": "code",
   "execution_count": 12,
   "metadata": {},
   "outputs": [
    {
     "name": "stdout",
     "output_type": "stream",
     "text": [
      "True\n"
     ]
    }
   ],
   "source": [
    "print(isinstance(W, list))"
   ]
  },
  {
   "cell_type": "code",
   "execution_count": 13,
   "metadata": {},
   "outputs": [
    {
     "data": {
      "text/plain": [
       "3"
      ]
     },
     "execution_count": 13,
     "metadata": {},
     "output_type": "execute_result"
    }
   ],
   "source": [
    "len(W)"
   ]
  },
  {
   "cell_type": "code",
   "execution_count": null,
   "metadata": {},
   "outputs": [],
   "source": [
    "W.is_empty()"
   ]
  },
  {
   "cell_type": "code",
   "execution_count": null,
   "metadata": {},
   "outputs": [],
   "source": [
    "W.top()"
   ]
  },
  {
   "cell_type": "code",
   "execution_count": 14,
   "metadata": {},
   "outputs": [
    {
     "name": "stdout",
     "output_type": "stream",
     "text": [
      "Let\n",
      "it\n",
      "be\n"
     ]
    }
   ],
   "source": [
    "while not W.is_empty():\n",
    "    print(W.pop())\n",
    "    "
   ]
  },
  {
   "cell_type": "code",
   "execution_count": null,
   "metadata": {},
   "outputs": [],
   "source": []
  }
 ],
 "metadata": {
  "kernelspec": {
   "display_name": "Python 3 (ipykernel)",
   "language": "python",
   "name": "python3"
  },
  "language_info": {
   "codemirror_mode": {
    "name": "ipython",
    "version": 3
   },
   "file_extension": ".py",
   "mimetype": "text/x-python",
   "name": "python",
   "nbconvert_exporter": "python",
   "pygments_lexer": "ipython3",
   "version": "3.8.2"
  }
 },
 "nbformat": 4,
 "nbformat_minor": 2
}
