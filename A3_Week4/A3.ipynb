{
 "cells": [
  {
   "cell_type": "markdown",
   "id": "af1ad88c",
   "metadata": {},
   "source": [
    "#### Hasan Zahid\n",
    "#### 10/4/2021\n",
    "#### IT 309-DL1 Assignment 3"
   ]
  },
  {
   "cell_type": "markdown",
   "id": "f3ce0392",
   "metadata": {},
   "source": [
    "#### Using a stack I calculate some postfix pattern expression and also implement a method that turns an infix expression to its postfix format"
   ]
  },
  {
   "cell_type": "code",
   "execution_count": 6,
   "id": "933d7f8e",
   "metadata": {},
   "outputs": [],
   "source": [
    "class ArrayStack:\n",
    "  def __init__(self):\n",
    "    self._data = []   \n",
    "\n",
    "  def __len__(self):\n",
    "    return len(self._data)\n",
    "\n",
    "  def is_empty(self):\n",
    "    return len(self._data) == 0\n",
    "\n",
    "  def push(self, e):\n",
    "    self._data.append(e)  \n",
    "\n",
    "  def top(self):\n",
    "    if self.is_empty():\n",
    "      raise Empty('Stack is empty')\n",
    "    return self._data[-1]             \n",
    "\n",
    "  def pop(self):\n",
    "    if self.is_empty():\n",
    "      raise Empty('Stack is empty')\n",
    "    return self._data.pop()   \n",
    "\n",
    "  def showStack(self):\n",
    "    for s in range(len(self._data) - 1, -1, -1):\n",
    "      print(self._data[s])\n",
    "    \n",
    "class Empty(Exception):\n",
    "  \"\"\"Simple 'Empty' exception - used as message pass-through. GRS \"\"\"\n",
    "  pass"
   ]
  },
  {
   "cell_type": "code",
   "execution_count": 7,
   "id": "8065be0b",
   "metadata": {},
   "outputs": [],
   "source": [
    "PFList = ('7 5 +',\n",
    "          '7 5 -',\n",
    "          '7 5 *',\n",
    "          '7 5 /',\n",
    "          '8 4 @',\n",
    "          '8 4 / 2 * 3 +',\n",
    "          '8 4 / 2 * 3 *',\n",
    "          '6 8 4 / 2 * 4 + -',\n",
    "          '100 100 * 20 /',\n",
    "          '200 w * 10 +',\n",
    "          '7 6 15 11 2 * + * 20 + -',\n",
    "          '3 4 5 * + * 6 +',\n",
    "          '10 20 30 40 * + * 50 +') \n",
    "          #'/ / + + + * / + * / *')\n",
    "    \n",
    "def calculate_postfix(pflist):\n",
    "    operators = \"({+-*/})\"\n",
    "    S = ArrayStack()\n",
    "    for ex in pflist:\n",
    "        x = ex.split(' ')\n",
    "        for n in x:\n",
    "            if n.isdigit():\n",
    "                S.push(n)\n",
    "            elif n in operators:\n",
    "                if S.is_empty():\n",
    "                    return\n",
    "                elif len(S) == 1:\n",
    "                    return\n",
    "                else:\n",
    "                    a = S.pop()\n",
    "                    b = S.pop()\n",
    "                    result = str(eval(b + n + a))\n",
    "                    S.push(result)   \n",
    "    return float(S.pop())"
   ]
  },
  {
   "cell_type": "code",
   "execution_count": 8,
   "id": "5bf3b342",
   "metadata": {},
   "outputs": [
    {
     "data": {
      "text/plain": [
       "12250.0"
      ]
     },
     "execution_count": 8,
     "metadata": {},
     "output_type": "execute_result"
    }
   ],
   "source": [
    "calculate_postfix(PFList)"
   ]
  },
  {
   "cell_type": "code",
   "execution_count": 9,
   "id": "71044ce5",
   "metadata": {},
   "outputs": [],
   "source": [
    "IFList = ('7 + 5',\n",
    "          '7 - 5',\n",
    "          '7 * 5',\n",
    "          '15 / 5',\n",
    "          '8 @ 4',\n",
    "          '8 / 4 * 2 + 3',\n",
    "          '8 / 4 + 2 * 3',\n",
    "          '16 - 8 / 4 * 2 * 4 ',\n",
    "          '100 * 100 / 20 + 55',\n",
    "          '200 w * 10 +',\n",
    "          '( 4 + 5 * 3 ) - 6',\n",
    "          '( 3 * ( 4 + 5 ) + 6',\n",
    "          '( ( 30 * 40 ) + 20 ) * 10 + 50')\n",
    "\n",
    "\n",
    "def infixToPostfix(iflist):\n",
    "    output = \"\"\n",
    "    prio = {'*': 3, '/': 3, '+': 2, '-': 2, '(': 1}\n",
    "    operators = \"(+-*/)\"\n",
    "    S = ArrayStack()\n",
    "    for e in iflist:\n",
    "        x = e.split(' ')\n",
    "        for n in x:\n",
    "            if n.isdigit():\n",
    "                S.push(n)\n",
    "            elif n == '(':\n",
    "                S.push(n)\n",
    "            elif n == ')':\n",
    "                while (S.is_empty() and S.top != '('):\n",
    "                    output += ' '+S.pop()\n",
    "            else:\n",
    "                while S.is_empty() and S.top() != '(' and  prio[S.top()] >= prio[ch]:\n",
    "                    output += ' '+S.pop()\n",
    "                S.push(n)\n",
    "#                 print(output)\n",
    "        while not S.is_empty():\n",
    "            output += ' '+S.pop()\n",
    "    return output"
   ]
  },
  {
   "cell_type": "code",
   "execution_count": 10,
   "id": "019d179c",
   "metadata": {},
   "outputs": [
    {
     "data": {
      "text/plain": [
       "' 5 + 7 5 - 7 5 * 7 5 / 15 4 @ 8 3 + 2 * 4 / 8 3 * 2 + 4 / 8  4 * 2 * 4 / 8 - 16 55 + 20 / 100 * 100 + 10 * w 200 6 - 3 * 5 + 4 ( 6 + 5 + 4 ( * 3 ( 50 + 10 * 20 + 40 * 30 ( ('"
      ]
     },
     "execution_count": 10,
     "metadata": {},
     "output_type": "execute_result"
    }
   ],
   "source": [
    "infixToPostfix(IFList)"
   ]
  },
  {
   "cell_type": "code",
   "execution_count": null,
   "id": "ebc98217",
   "metadata": {},
   "outputs": [],
   "source": []
  },
  {
   "cell_type": "code",
   "execution_count": null,
   "id": "b631641c",
   "metadata": {},
   "outputs": [],
   "source": []
  }
 ],
 "metadata": {
  "kernelspec": {
   "display_name": "Python 3 (ipykernel)",
   "language": "python",
   "name": "python3"
  },
  "language_info": {
   "codemirror_mode": {
    "name": "ipython",
    "version": 3
   },
   "file_extension": ".py",
   "mimetype": "text/x-python",
   "name": "python",
   "nbconvert_exporter": "python",
   "pygments_lexer": "ipython3",
   "version": "3.8.2"
  }
 },
 "nbformat": 4,
 "nbformat_minor": 5
}
