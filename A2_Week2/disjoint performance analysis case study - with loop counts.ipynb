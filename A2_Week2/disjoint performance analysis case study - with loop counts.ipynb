{
 "cells": [
  {
   "cell_type": "markdown",
   "metadata": {},
   "source": [
    "# IT-309 Asymptotic Analysis Case Study: disjoint algorithm from the textbook"
   ]
  },
  {
   "cell_type": "code",
   "execution_count": 1,
   "metadata": {},
   "outputs": [],
   "source": [
    "def disjoint1(A, B, C):   # 2 ops\n",
    "  \"\"\"Return True if there is no element common to all three lists.\"\"\"\n",
    "  c1, c2, c3 = 0, 0, 0\n",
    "  for a in A:             # 2n\n",
    "    c1 +=1\n",
    "    for b in B:           # 2n x n = 2n**2 \n",
    "      c2 += 1 \n",
    "      for c in C:         # 2n x n x n = 2n**3\n",
    "        c3 += 1\n",
    "        if a == b == c:   # 3 ops x n**3\n",
    "          return False, c1, c2, c3    # 1 op    # we found a common value\n",
    "  return True, c1, c2, c3             # 1 op  # if we reach this, sets are disjoint\n",
    "\n",
    "# T(n) = 2 + 2n + 2n**2 + 2n**3 + 3n**3 + 2 = 5n**3 + 2n**2 + 2n + 4, which O(n**3)"
   ]
  },
  {
   "cell_type": "code",
   "execution_count": 2,
   "metadata": {},
   "outputs": [],
   "source": [
    "def disjoint2(A, B, C):  # 2 ops\n",
    "  \"\"\"Return True if there is no element common to all three lists.\"\"\"\n",
    "  c1, c2, c3, c4 = 0, 0, 0, 0\n",
    "  for a in A:           # 2n\n",
    "    c1 += 1\n",
    "    for b in B:         # 2n**2 \n",
    "      c2 += 1\n",
    "      if a == b:        # 2n**2    # only check C if we found match from A and B\n",
    "        c3 += 1\n",
    "        for c in C:     # 0 to 2n\n",
    "          c4 += 1\n",
    "          if a == c:    # 0 to 2n x n   # (and thus a == b == c)\n",
    "            return False, c1, c2, c3, c4  # 1 op  # we found a common value\n",
    "  return True, c1, c2, c3, c4           # 1 op    # if we reach this, sets are disjoint\n",
    "\n",
    "# T(n) = 6n**2 + 6n + 4 , which is O(n**2)"
   ]
  },
  {
   "cell_type": "code",
   "execution_count": 12,
   "metadata": {},
   "outputs": [],
   "source": [
    "A = [1, 2, 3, 4, 5, 6, 7, 8, 9, 10]\n",
    "B = [1, 2, 3, 4, 5, 6, 7, 8, 9, 10]\n",
    "C = [21, 22, 23, 24, 25, 26, 27, 28, 29, 10]\n",
    "#C = [21, 22, 23, 24, 25, 26, 27, 28, 29, 10]\n"
   ]
  },
  {
   "cell_type": "code",
   "execution_count": 8,
   "metadata": {},
   "outputs": [
    {
     "data": {
      "text/plain": [
       "(False, 10, 100, 1000)"
      ]
     },
     "execution_count": 8,
     "metadata": {},
     "output_type": "execute_result"
    }
   ],
   "source": [
    "disjoint1(A, B, C)"
   ]
  },
  {
   "cell_type": "code",
   "execution_count": 9,
   "metadata": {},
   "outputs": [
    {
     "data": {
      "text/plain": [
       "(False, 10, 100, 10, 100)"
      ]
     },
     "execution_count": 9,
     "metadata": {},
     "output_type": "execute_result"
    }
   ],
   "source": [
    "disjoint2(A, B, C)"
   ]
  },
  {
   "cell_type": "code",
   "execution_count": 17,
   "metadata": {},
   "outputs": [
    {
     "name": "stdout",
     "output_type": "stream",
     "text": [
      "0.0\n",
      "Elapsed time:   0.00000000000000000000000000\n"
     ]
    }
   ],
   "source": [
    "from time import time   #importing the time function from the time module\n",
    "start_time = time() # record the starting time\n",
    "\n",
    "disjoint2(A, B, C)\n",
    "\n",
    "end_time = time()   # record the ending time\n",
    "elapsed = end_time - start_time\n",
    "\n",
    "\n",
    "print(elapsed)\n",
    "print('Elapsed time: {0:30.26f}'.format(elapsed))"
   ]
  },
  {
   "cell_type": "code",
   "execution_count": null,
   "metadata": {},
   "outputs": [],
   "source": []
  }
 ],
 "metadata": {
  "kernelspec": {
   "display_name": "Python 3",
   "language": "python",
   "name": "python3"
  },
  "language_info": {
   "codemirror_mode": {
    "name": "ipython",
    "version": 3
   },
   "file_extension": ".py",
   "mimetype": "text/x-python",
   "name": "python",
   "nbconvert_exporter": "python",
   "pygments_lexer": "ipython3",
   "version": "3.7.3"
  }
 },
 "nbformat": 4,
 "nbformat_minor": 2
}
