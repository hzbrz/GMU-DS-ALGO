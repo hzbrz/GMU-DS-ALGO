{
 "cells": [
  {
   "cell_type": "markdown",
   "metadata": {},
   "source": [
    "# IT-309 - Asymptotic Analysis Demo: disjoint function\n",
    "The three lists are assumed to have unique elements within themselves.  The functions test whether or not a duplicate element appears in all three lists."
   ]
  },
  {
   "cell_type": "code",
   "execution_count": 1,
   "metadata": {},
   "outputs": [],
   "source": [
    "def disjoint1(A, B, C):     #  2 ops\n",
    "  \"\"\"Return True if there is no element common to all three lists.\"\"\"\n",
    "  for a in A:               # 2n  \n",
    "    for b in B:             # 2n x 2n = 4n**2\n",
    "      for c in C:           # 2n x 2n x 2n = 8n**3 \n",
    "        if a == b == c:     # 3 ops...9n**3\n",
    "          return False      # 1 op    ...we found a common value\n",
    "  return True               # 1 op     ...if we reach this, sets are disjoint\n",
    "\n",
    "# Total T(n) = 2 + 2n + 2n + 4n**2 + 9n**3 + 1 + 1 = 9n**3 + 4n**2 + 4n + 4, which is O(n**3)"
   ]
  },
  {
   "cell_type": "code",
   "execution_count": 2,
   "metadata": {},
   "outputs": [],
   "source": [
    "def disjoint2(A, B, C):     # 2 0ps\n",
    "  \"\"\"Return True if there is no element common to all three lists.\"\"\"\n",
    "  for a in A:               # 2n\n",
    "    for b in B:             # 4n**2  \n",
    "      if a == b:            # 2 x 4n**2      ...only check C if we found match from A and B\n",
    "        for c in C:         # 0 up to 2 x n   since there are at most n a, b pairs that match \n",
    "          if a == c:         # 0 up to (2 x n) x 2 x n = 0 to 4 n**2    (and thus a == b == c)\n",
    "            return False    # 1 op     we found a common value\n",
    "  return True               # 1 op     if we reach this, sets are disjoint\n",
    "\n",
    "# Total T(n) = 2 + 2n + 4n**2 + 8n**2 + 2n + 4n**2 + 1 + 1 = 16n**2 + 4n + 4, which is O(**2)"
   ]
  },
  {
   "cell_type": "code",
   "execution_count": 5,
   "metadata": {},
   "outputs": [],
   "source": [
    "A = [1, 2, 3, 4, 15]\n",
    "B = [11, 12, 13, 14, 15]\n",
    "C = [21, 22, 23, 24, 15]\n"
   ]
  },
  {
   "cell_type": "code",
   "execution_count": 6,
   "metadata": {},
   "outputs": [
    {
     "data": {
      "text/plain": [
       "False"
      ]
     },
     "execution_count": 6,
     "metadata": {},
     "output_type": "execute_result"
    }
   ],
   "source": [
    "disjoint1(A, B, C)"
   ]
  },
  {
   "cell_type": "markdown",
   "metadata": {},
   "source": [
    "# Best case: A1 = [1, 2, 3, 4, 5]\n",
    "# How many duplicate pairs between A and A1?  Ans: 5 : (1, 1), (2, 2), ... (5,5) "
   ]
  },
  {
   "cell_type": "code",
   "execution_count": 1,
   "metadata": {},
   "outputs": [],
   "source": [
    "def disjoint1(A, B, C):     #  2 ops\n",
    "  \"\"\"Return True if there is no element common to all three lists.\"\"\"\n",
    "  c1, c2, c3 = 0, 0, 0\n",
    "  for a in A:               # 2n  \n",
    "    c1 += 1\n",
    "    for b in B:             # 2n x n = 2n**2\n",
    "      c2 += 1\n",
    "      for c in C:           # 2n x n x n = 2n**3 \n",
    "        c3 += 1\n",
    "        if a == b == c:     # 3 ops...3n**3\n",
    "          return False, c1, c2, c3    # 1 op    ...we found a common value\n",
    "  return True, c1, c2, c3   # 1 op     ...if we reach this, sets are disjoint\n",
    "\n",
    "# Total T(n) = 2 + 2n + 2n + 2n**2 + 2n**3 + 1 + 1 = 5n**3 + 2n**2 + 4n + 4, which is O(n**3)\n"
   ]
  },
  {
   "cell_type": "code",
   "execution_count": 5,
   "metadata": {},
   "outputs": [],
   "source": [
    "def disjoint2(A, B, C):     # 2 0ps\n",
    "  \"\"\"Return True if there is no element common to all three lists.\"\"\"\n",
    "  c1, c2, c3 = 0, 0, 0\n",
    "  for a in A:               # 2n\n",
    "    c1 += 1\n",
    "    for b in B:             # 2n**2  \n",
    "      c2 += 1\n",
    "      if a == b:            # 2 x n**2      ...only check C if we found match from A and B\n",
    "        c3 += 1\n",
    "        for c in C:         # 0 up to 2 x n   since there are at most n a, b pairs that match \n",
    "          if a == c:         # 0 up to (2 x n) x n = 0 to 2 n**2    (and thus a == b == c)\n",
    "            return False, c1, c2, c3    # 1 op     we found a common value\n",
    "  return True, c1, c2, c3               # 1 op     if we reach this, sets are disjoint\n",
    "\n",
    "# Total T(n) = 2 + 2n + 2n**2 + 2n**2 + 2n + 2n**2 + 1 + 1 = 6n**2 + 4n + 4, which is O(**2)"
   ]
  },
  {
   "cell_type": "code",
   "execution_count": 6,
   "metadata": {},
   "outputs": [
    {
     "data": {
      "text/plain": [
       "(True, 5, 25, 125)"
      ]
     },
     "execution_count": 6,
     "metadata": {},
     "output_type": "execute_result"
    }
   ],
   "source": [
    "disjoint1 (A, B, C)\n"
   ]
  },
  {
   "cell_type": "code",
   "execution_count": 8,
   "metadata": {},
   "outputs": [
    {
     "data": {
      "text/plain": [
       "(True, 5, 25, 0)"
      ]
     },
     "execution_count": 8,
     "metadata": {},
     "output_type": "execute_result"
    }
   ],
   "source": [
    "disjoint2 (A, B, C)"
   ]
  },
  {
   "cell_type": "code",
   "execution_count": 9,
   "metadata": {},
   "outputs": [],
   "source": [
    "B1 = [1, 2, 3, 4, 5]"
   ]
  },
  {
   "cell_type": "code",
   "execution_count": 10,
   "metadata": {},
   "outputs": [
    {
     "name": "stdout",
     "output_type": "stream",
     "text": [
      "(True, 5, 25, 125)\n",
      "(True, 5, 25, 5)\n"
     ]
    }
   ],
   "source": [
    "print(disjoint1 (A, B1, C))\n",
    "print(disjoint2(A, B1, C))"
   ]
  },
  {
   "cell_type": "code",
   "execution_count": 11,
   "metadata": {},
   "outputs": [],
   "source": [
    "C1 = [11, 12, 13, 14, 15]"
   ]
  },
  {
   "cell_type": "code",
   "execution_count": 12,
   "metadata": {},
   "outputs": [
    {
     "name": "stdout",
     "output_type": "stream",
     "text": [
      "(True, 5, 25, 125)\n",
      "(True, 5, 25, 0)\n"
     ]
    }
   ],
   "source": [
    "print(disjoint1(A, B, C1))\n",
    "print(disjoint2(A, B, C1))"
   ]
  },
  {
   "cell_type": "code",
   "execution_count": null,
   "metadata": {},
   "outputs": [],
   "source": []
  }
 ],
 "metadata": {
  "kernelspec": {
   "display_name": "Python 3 (ipykernel)",
   "language": "python",
   "name": "python3"
  },
  "language_info": {
   "codemirror_mode": {
    "name": "ipython",
    "version": 3
   },
   "file_extension": ".py",
   "mimetype": "text/x-python",
   "name": "python",
   "nbconvert_exporter": "python",
   "pygments_lexer": "ipython3",
   "version": "3.8.2"
  }
 },
 "nbformat": 4,
 "nbformat_minor": 2
}
